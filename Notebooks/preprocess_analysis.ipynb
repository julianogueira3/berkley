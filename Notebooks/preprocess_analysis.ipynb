{
 "cells": [
  {
   "cell_type": "code",
   "execution_count": 4,
   "metadata": {},
   "outputs": [],
   "source": [
    "import pandas as pd\n",
    "import numpy as np"
   ]
  },
  {
   "cell_type": "code",
   "execution_count": 5,
   "metadata": {},
   "outputs": [],
   "source": [
    "data_path ='../DF/berkeley.csv'\n",
    "df = pd.read_csv(data_path)"
   ]
  },
  {
   "cell_type": "code",
   "execution_count": 6,
   "metadata": {},
   "outputs": [
    {
     "name": "stdout",
     "output_type": "stream",
     "text": [
      "Informações gerais do dataset:\n",
      "<class 'pandas.core.frame.DataFrame'>\n",
      "RangeIndex: 12763 entries, 0 to 12762\n",
      "Data columns (total 4 columns):\n",
      " #   Column     Non-Null Count  Dtype \n",
      "---  ------     --------------  ----- \n",
      " 0   Year       12763 non-null  int64 \n",
      " 1   Major      12763 non-null  object\n",
      " 2   Gender     12763 non-null  object\n",
      " 3   Admission  12763 non-null  object\n",
      "dtypes: int64(1), object(3)\n",
      "memory usage: 399.0+ KB\n",
      "None\n",
      "\n",
      "Primeiras linhas:\n",
      "    Year  Major Gender Admission\n",
      "0  1973      C      F  Rejected\n",
      "1  1973      B      M  Accepted\n",
      "2  1973  Other      F  Accepted\n",
      "3  1973  Other      M  Accepted\n",
      "4  1973  Other      M  Rejected\n"
     ]
    }
   ],
   "source": [
    "print('Informações gerais do dataset:')\n",
    "print(df.info())\n",
    "print('\\nPrimeiras linhas:\\n', df.head())"
   ]
  },
  {
   "cell_type": "code",
   "execution_count": 7,
   "metadata": {},
   "outputs": [
    {
     "name": "stdout",
     "output_type": "stream",
     "text": [
      "\n",
      "Verificação de valores ausentes:\n",
      "Year         0\n",
      "Major        0\n",
      "Gender       0\n",
      "Admission    0\n",
      "dtype: int64\n"
     ]
    }
   ],
   "source": [
    "print('\\nVerificação de valores ausentes:')\n",
    "print(df.isnull().sum())"
   ]
  },
  {
   "cell_type": "code",
   "execution_count": 8,
   "metadata": {},
   "outputs": [
    {
     "name": "stdout",
     "output_type": "stream",
     "text": [
      "\n",
      "Outliers detectados:\n",
      "Coluna Year: 0 outliers\n"
     ]
    }
   ],
   "source": [
    "def detect_outliers_iqr(data, column):\n",
    "    Q1 = data[column].quantile(0.25)\n",
    "    Q3 = data[column].quantile(0.75)\n",
    "    IQR = Q3 - Q1\n",
    "    lower_bound = Q1 - 1.5 * IQR\n",
    "    upper_bound = Q3 + 1.5 * IQR\n",
    "    return data[(data[column] < lower_bound) | (data[column] > upper_bound)]\n",
    "\n",
    "numeric_columns = df.select_dtypes(include=['float64', 'int64']).columns\n",
    "outliers = {col: detect_outliers_iqr(df, col) for col in numeric_columns}\n",
    "print('\\nOutliers detectados:')\n",
    "for col, outlier_df in outliers.items():\n",
    "    print(f'Coluna {col}: {len(outlier_df)} outliers')"
   ]
  },
  {
   "cell_type": "code",
   "execution_count": 9,
   "metadata": {},
   "outputs": [
    {
     "name": "stdout",
     "output_type": "stream",
     "text": [
      "Valores únicos em Major: ['C' 'B' 'Other' 'F' 'A' 'D' 'E']\n",
      "Valores únicos em Gender: ['F' 'M']\n",
      "Valores únicos em Admission: ['Rejected' 'Accepted']\n"
     ]
    }
   ],
   "source": [
    "categorical_columns = df.select_dtypes(include=['object']).columns\n",
    "for col in categorical_columns:\n",
    "    print(f'Valores únicos em {col}:', df[col].unique())"
   ]
  },
  {
   "cell_type": "code",
   "execution_count": 10,
   "metadata": {},
   "outputs": [],
   "source": [
    "df['Major'] = df['Major'].astype('category')\n",
    "df['Gender'] = df['Gender'].astype('category')\n",
    "df['Admission'] = df['Admission'].astype('category')"
   ]
  },
  {
   "cell_type": "code",
   "execution_count": 11,
   "metadata": {},
   "outputs": [],
   "source": [
    "# 1. Criar uma variável que categoriza o ano em \"década\"\n",
    "df['Decade'] = (df['Year'] // 10) * 10\n",
    "\n",
    "# 2. Criar uma variável binária para majors \"populares\" (mais frequentes)\n",
    "major_counts = df['Major'].value_counts()\n",
    "threshold = major_counts.mean()  # Threshold baseado na média de frequências\n",
    "df['Popular_Major'] = df['Major'].apply(lambda x: 1 if major_counts[x] >= threshold else 0)\n",
    "\n",
    "# 3. Criar uma variável que codifica a admissão como \"Aceito\" ou \"Rejeitado\"\n",
    "df['Admission_Binary'] = df['Admission'].apply(lambda x: 1 if x == 'Accepted' else 0)\n",
    "\n",
    "# 4. Criar uma variável combinada de gênero e admissão (e.g., \"M_Accepted\")\n",
    "df['Gender_Admission'] = df['Gender'].astype(str) + '_' + df['Admission'].astype(str)"
   ]
  },
  {
   "cell_type": "code",
   "execution_count": 12,
   "metadata": {},
   "outputs": [
    {
     "name": "stdout",
     "output_type": "stream",
     "text": [
      "Informações gerais do dataset:\n",
      "<class 'pandas.core.frame.DataFrame'>\n",
      "RangeIndex: 12763 entries, 0 to 12762\n",
      "Data columns (total 8 columns):\n",
      " #   Column            Non-Null Count  Dtype   \n",
      "---  ------            --------------  -----   \n",
      " 0   Year              12763 non-null  int64   \n",
      " 1   Major             12763 non-null  category\n",
      " 2   Gender            12763 non-null  category\n",
      " 3   Admission         12763 non-null  category\n",
      " 4   Decade            12763 non-null  int64   \n",
      " 5   Popular_Major     12763 non-null  int64   \n",
      " 6   Admission_Binary  12763 non-null  category\n",
      " 7   Gender_Admission  12763 non-null  object  \n",
      "dtypes: category(4), int64(3), object(1)\n",
      "memory usage: 449.5+ KB\n",
      "None\n",
      "\n",
      "Primeiras linhas:\n",
      "    Year  Major Gender Admission  Decade  Popular_Major Admission_Binary  \\\n",
      "0  1973      C      F  Rejected    1970              0                0   \n",
      "1  1973      B      M  Accepted    1970              0                1   \n",
      "2  1973  Other      F  Accepted    1970              1                1   \n",
      "3  1973  Other      M  Accepted    1970              1                1   \n",
      "4  1973  Other      M  Rejected    1970              1                0   \n",
      "\n",
      "  Gender_Admission  \n",
      "0       F_Rejected  \n",
      "1       M_Accepted  \n",
      "2       F_Accepted  \n",
      "3       M_Accepted  \n",
      "4       M_Rejected  \n"
     ]
    }
   ],
   "source": [
    "print('Informações gerais do dataset:')\n",
    "print(df.info())\n",
    "print('\\nPrimeiras linhas:\\n', df.head())"
   ]
  },
  {
   "cell_type": "code",
   "execution_count": 14,
   "metadata": {},
   "outputs": [
    {
     "name": "stdout",
     "output_type": "stream",
     "text": [
      "Dataset pré-processado salvo em ../DF/berkeley_processed.csv\n"
     ]
    }
   ],
   "source": [
    "processed_path = '../DF/berkeley_processed.csv'\n",
    "df.to_csv(processed_path, index=False)\n",
    "print(f'Dataset pré-processado salvo em {processed_path}')\n"
   ]
  }
 ],
 "metadata": {
  "kernelspec": {
   "display_name": "MBA",
   "language": "python",
   "name": "python3"
  },
  "language_info": {
   "codemirror_mode": {
    "name": "ipython",
    "version": 3
   },
   "file_extension": ".py",
   "mimetype": "text/x-python",
   "name": "python",
   "nbconvert_exporter": "python",
   "pygments_lexer": "ipython3",
   "version": "3.12.4"
  }
 },
 "nbformat": 4,
 "nbformat_minor": 2
}
